{
 "cells": [
  {
   "cell_type": "markdown",
   "id": "65fa2fb1",
   "metadata": {},
   "source": [
    "### Sematic Segmentation"
   ]
  },
  {
   "cell_type": "code",
   "execution_count": null,
   "id": "ee2c24d2",
   "metadata": {},
   "outputs": [],
   "source": [
    "import torch\n",
    "import torch.nn as nn\n",
    "\n",
    "class Doubleconv(nn.Module):\n",
    "  def __init__(self, in_channels, out_channels):\n",
    "    super().__init__()\n",
    "    self.conv_op = nn.sequntial(\n",
    "      nn.Conv2d(in_channels, out_channels, kernal_size = 3, padding = 1),\n",
    "      nn.ReLU(inplace = True),\n",
    "      nn.Conv2d(out_channels, out_channels, kernel_size=3, padding=1)\n",
    "      nn.ReLU(inplace = True)\n",
    "    )\n",
    "\n",
    "  def forward(self, x):\n",
    "    return self.conv_op(x)\n",
    "\n",
    "class Downsample(nn.module):\n",
    "  def __init__(self,in_channels, out_channels):\n",
    "    super().__init__()\n",
    "    self.conv = Doubleconv(in_channels, out_channels)\n",
    "    self.pool = nn.MaxPool2d(kernel_size=2, stride = 2)\n",
    "\n",
    "  def forward(self, x):\n",
    "    down = self.conv(x)\n",
    "    p = self.pool(down)\n",
    "\n",
    "    return down, p\n",
    "\n",
    "class UpSample(nn.module):\n",
    "  def __init__(self, in_channels, out_channels):\n",
    "    super().__init__()\n",
    "    self.up  = nn.ConvTanspose2d(in_channels, in_channels//2, kernal_size = 2, stride = 2)\n",
    "    self.cov = Doubleconv(in_channels, out_channels)\n",
    "\n",
    "  def forward(self, x1, x2):\n",
    "    x1 = self.up(x1)\n",
    "    x = torch.cat([x1,x2],1)\n",
    "    return self.conv(x)    "
   ]
  },
  {
   "cell_type": "code",
   "execution_count": null,
   "id": "fb16f758",
   "metadata": {},
   "outputs": [],
   "source": [
    "from PIL import Image\n",
    "import numpy as np\n",
    "\n",
    "data = [\n",
    "  [[255, 0, 0], [0, 255, 0]],     \n",
    "  [[0, 0, 255], [255, 255, 0]]   \n",
    "]\n",
    "\n",
    "np_data = np.array(data, dtype=np.uint8)\n",
    "\n",
    "img = Image.fromarray(np_data, mode='RGB')\n",
    "\n",
    "large_img = img.resize((200, 200), resample=Image.NEAREST)\n",
    "\n",
    "large_img.save(\"upscaled_image.png\")\n",
    "large_img.show()\n",
    " "
   ]
  }
 ],
 "metadata": {
  "kernelspec": {
   "display_name": "Python 3",
   "language": "python",
   "name": "python3"
  },
  "language_info": {
   "codemirror_mode": {
    "name": "ipython",
    "version": 3
   },
   "file_extension": ".py",
   "mimetype": "text/x-python",
   "name": "python",
   "nbconvert_exporter": "python",
   "pygments_lexer": "ipython3",
   "version": "3.10.6"
  }
 },
 "nbformat": 4,
 "nbformat_minor": 5
}
