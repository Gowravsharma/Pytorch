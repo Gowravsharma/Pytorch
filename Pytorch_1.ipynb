{
 "cells": [
  {
   "cell_type": "markdown",
   "id": "a0fe2b9e",
   "metadata": {},
   "source": [
    "Imports\n"
   ]
  },
  {
   "cell_type": "code",
   "execution_count": 2,
   "id": "3d15c514",
   "metadata": {},
   "outputs": [],
   "source": [
    "import torch \n",
    "import torch.nn as nn\n",
    "from torch.optim import Adam\n",
    "from torch.utils.data import Dataset, DataLoader \n",
    "from torchsummary import summary\n",
    "from sklearn.model_selection import train_test_split\n",
    "from sklearn.metrics import accuracy_score\n",
    "import matplotlib.pyplot as plt\n",
    "import pandas as pd\n",
    "import numpy as np\n",
    "from sklearn.preprocessing import LabelEncoder\n",
    "\n",
    "device = 'cuda' if torch.cuda.is_available() else 'cpu'"
   ]
  },
  {
   "cell_type": "markdown",
   "id": "4c5a0bd0",
   "metadata": {},
   "source": [
    "Dataset"
   ]
  },
  {
   "cell_type": "code",
   "execution_count": 3,
   "id": "05bc0787",
   "metadata": {},
   "outputs": [
    {
     "name": "stdout",
     "output_type": "stream",
     "text": [
      "Unique classes:  [1 0]\n",
      "(18185, 11)\n"
     ]
    },
    {
     "data": {
      "text/html": [
       "<div>\n",
       "<style scoped>\n",
       "    .dataframe tbody tr th:only-of-type {\n",
       "        vertical-align: middle;\n",
       "    }\n",
       "\n",
       "    .dataframe tbody tr th {\n",
       "        vertical-align: top;\n",
       "    }\n",
       "\n",
       "    .dataframe thead th {\n",
       "        text-align: right;\n",
       "    }\n",
       "</style>\n",
       "<table border=\"1\" class=\"dataframe\">\n",
       "  <thead>\n",
       "    <tr style=\"text-align: right;\">\n",
       "      <th></th>\n",
       "      <th>Area</th>\n",
       "      <th>MajorAxisLength</th>\n",
       "      <th>MinorAxisLength</th>\n",
       "      <th>Eccentricity</th>\n",
       "      <th>ConvexArea</th>\n",
       "      <th>EquivDiameter</th>\n",
       "      <th>Extent</th>\n",
       "      <th>Perimeter</th>\n",
       "      <th>Roundness</th>\n",
       "      <th>AspectRation</th>\n",
       "      <th>Class</th>\n",
       "    </tr>\n",
       "  </thead>\n",
       "  <tbody>\n",
       "    <tr>\n",
       "      <th>0</th>\n",
       "      <td>4537</td>\n",
       "      <td>92.229316</td>\n",
       "      <td>64.012769</td>\n",
       "      <td>0.719916</td>\n",
       "      <td>4677</td>\n",
       "      <td>76.004525</td>\n",
       "      <td>0.657536</td>\n",
       "      <td>273.085</td>\n",
       "      <td>0.764510</td>\n",
       "      <td>1.440796</td>\n",
       "      <td>1</td>\n",
       "    </tr>\n",
       "    <tr>\n",
       "      <th>1</th>\n",
       "      <td>2872</td>\n",
       "      <td>74.691881</td>\n",
       "      <td>51.400454</td>\n",
       "      <td>0.725553</td>\n",
       "      <td>3015</td>\n",
       "      <td>60.471018</td>\n",
       "      <td>0.713009</td>\n",
       "      <td>208.317</td>\n",
       "      <td>0.831658</td>\n",
       "      <td>1.453137</td>\n",
       "      <td>1</td>\n",
       "    </tr>\n",
       "    <tr>\n",
       "      <th>2</th>\n",
       "      <td>3048</td>\n",
       "      <td>76.293164</td>\n",
       "      <td>52.043491</td>\n",
       "      <td>0.731211</td>\n",
       "      <td>3132</td>\n",
       "      <td>62.296341</td>\n",
       "      <td>0.759153</td>\n",
       "      <td>210.012</td>\n",
       "      <td>0.868434</td>\n",
       "      <td>1.465950</td>\n",
       "      <td>1</td>\n",
       "    </tr>\n",
       "    <tr>\n",
       "      <th>3</th>\n",
       "      <td>3073</td>\n",
       "      <td>77.033628</td>\n",
       "      <td>51.928487</td>\n",
       "      <td>0.738639</td>\n",
       "      <td>3157</td>\n",
       "      <td>62.551300</td>\n",
       "      <td>0.783529</td>\n",
       "      <td>210.657</td>\n",
       "      <td>0.870203</td>\n",
       "      <td>1.483456</td>\n",
       "      <td>1</td>\n",
       "    </tr>\n",
       "    <tr>\n",
       "      <th>4</th>\n",
       "      <td>3693</td>\n",
       "      <td>85.124785</td>\n",
       "      <td>56.374021</td>\n",
       "      <td>0.749282</td>\n",
       "      <td>3802</td>\n",
       "      <td>68.571668</td>\n",
       "      <td>0.769375</td>\n",
       "      <td>230.332</td>\n",
       "      <td>0.874743</td>\n",
       "      <td>1.510000</td>\n",
       "      <td>1</td>\n",
       "    </tr>\n",
       "  </tbody>\n",
       "</table>\n",
       "</div>"
      ],
      "text/plain": [
       "   Area  MajorAxisLength  MinorAxisLength  Eccentricity  ConvexArea  \\\n",
       "0  4537        92.229316        64.012769      0.719916        4677   \n",
       "1  2872        74.691881        51.400454      0.725553        3015   \n",
       "2  3048        76.293164        52.043491      0.731211        3132   \n",
       "3  3073        77.033628        51.928487      0.738639        3157   \n",
       "4  3693        85.124785        56.374021      0.749282        3802   \n",
       "\n",
       "   EquivDiameter    Extent  Perimeter  Roundness  AspectRation  Class  \n",
       "0      76.004525  0.657536    273.085   0.764510      1.440796      1  \n",
       "1      60.471018  0.713009    208.317   0.831658      1.453137      1  \n",
       "2      62.296341  0.759153    210.012   0.868434      1.465950      1  \n",
       "3      62.551300  0.783529    210.657   0.870203      1.483456      1  \n",
       "4      68.571668  0.769375    230.332   0.874743      1.510000      1  "
      ]
     },
     "execution_count": 3,
     "metadata": {},
     "output_type": "execute_result"
    }
   ],
   "source": [
    "data_df = pd.read_csv('riceClassification.csv')\n",
    "\n",
    "#dropping the nulls & not required columns\n",
    "data_df.dropna(inplace = True)\n",
    "data_df.drop(['id'], axis = 1, inplace = True)\n",
    "\n",
    "#checking total unique classes\n",
    "print('Unique classes: ',data_df['Class'].unique())\n",
    "print(data_df.shape)\n",
    "\n",
    "le = LabelEncoder()\n",
    "data_df['Class'] = le.fit_transform(data_df['Class'])\n",
    "data_df.head()"
   ]
  },
  {
   "cell_type": "markdown",
   "id": "a6770aff",
   "metadata": {},
   "source": [
    "Data Preprocessing"
   ]
  },
  {
   "cell_type": "code",
   "execution_count": null,
   "id": "9d8b9845",
   "metadata": {},
   "outputs": [
    {
     "data": {
      "text/html": [
       "<div>\n",
       "<style scoped>\n",
       "    .dataframe tbody tr th:only-of-type {\n",
       "        vertical-align: middle;\n",
       "    }\n",
       "\n",
       "    .dataframe tbody tr th {\n",
       "        vertical-align: top;\n",
       "    }\n",
       "\n",
       "    .dataframe thead th {\n",
       "        text-align: right;\n",
       "    }\n",
       "</style>\n",
       "<table border=\"1\" class=\"dataframe\">\n",
       "  <thead>\n",
       "    <tr style=\"text-align: right;\">\n",
       "      <th></th>\n",
       "      <th>Area</th>\n",
       "      <th>MajorAxisLength</th>\n",
       "      <th>MinorAxisLength</th>\n",
       "      <th>Eccentricity</th>\n",
       "      <th>ConvexArea</th>\n",
       "      <th>EquivDiameter</th>\n",
       "      <th>Extent</th>\n",
       "      <th>Perimeter</th>\n",
       "      <th>Roundness</th>\n",
       "      <th>AspectRation</th>\n",
       "      <th>Class</th>\n",
       "    </tr>\n",
       "  </thead>\n",
       "  <tbody>\n",
       "    <tr>\n",
       "      <th>0</th>\n",
       "      <td>0.444368</td>\n",
       "      <td>0.503404</td>\n",
       "      <td>0.775435</td>\n",
       "      <td>0.744658</td>\n",
       "      <td>0.424873</td>\n",
       "      <td>0.666610</td>\n",
       "      <td>0.741661</td>\n",
       "      <td>0.537029</td>\n",
       "      <td>0.844997</td>\n",
       "      <td>0.368316</td>\n",
       "      <td>1.0</td>\n",
       "    </tr>\n",
       "    <tr>\n",
       "      <th>1</th>\n",
       "      <td>0.281293</td>\n",
       "      <td>0.407681</td>\n",
       "      <td>0.622653</td>\n",
       "      <td>0.750489</td>\n",
       "      <td>0.273892</td>\n",
       "      <td>0.530370</td>\n",
       "      <td>0.804230</td>\n",
       "      <td>0.409661</td>\n",
       "      <td>0.919215</td>\n",
       "      <td>0.371471</td>\n",
       "      <td>1.0</td>\n",
       "    </tr>\n",
       "    <tr>\n",
       "      <th>2</th>\n",
       "      <td>0.298531</td>\n",
       "      <td>0.416421</td>\n",
       "      <td>0.630442</td>\n",
       "      <td>0.756341</td>\n",
       "      <td>0.284520</td>\n",
       "      <td>0.546380</td>\n",
       "      <td>0.856278</td>\n",
       "      <td>0.412994</td>\n",
       "      <td>0.959862</td>\n",
       "      <td>0.374747</td>\n",
       "      <td>1.0</td>\n",
       "    </tr>\n",
       "    <tr>\n",
       "      <th>3</th>\n",
       "      <td>0.300979</td>\n",
       "      <td>0.420463</td>\n",
       "      <td>0.629049</td>\n",
       "      <td>0.764024</td>\n",
       "      <td>0.286791</td>\n",
       "      <td>0.548616</td>\n",
       "      <td>0.883772</td>\n",
       "      <td>0.414262</td>\n",
       "      <td>0.961818</td>\n",
       "      <td>0.379222</td>\n",
       "      <td>1.0</td>\n",
       "    </tr>\n",
       "    <tr>\n",
       "      <th>4</th>\n",
       "      <td>0.361704</td>\n",
       "      <td>0.464626</td>\n",
       "      <td>0.682901</td>\n",
       "      <td>0.775033</td>\n",
       "      <td>0.345385</td>\n",
       "      <td>0.601418</td>\n",
       "      <td>0.867808</td>\n",
       "      <td>0.452954</td>\n",
       "      <td>0.966836</td>\n",
       "      <td>0.386007</td>\n",
       "      <td>1.0</td>\n",
       "    </tr>\n",
       "  </tbody>\n",
       "</table>\n",
       "</div>"
      ],
      "text/plain": [
       "       Area  MajorAxisLength  MinorAxisLength  Eccentricity  ConvexArea  \\\n",
       "0  0.444368         0.503404         0.775435      0.744658    0.424873   \n",
       "1  0.281293         0.407681         0.622653      0.750489    0.273892   \n",
       "2  0.298531         0.416421         0.630442      0.756341    0.284520   \n",
       "3  0.300979         0.420463         0.629049      0.764024    0.286791   \n",
       "4  0.361704         0.464626         0.682901      0.775033    0.345385   \n",
       "\n",
       "   EquivDiameter    Extent  Perimeter  Roundness  AspectRation  Class  \n",
       "0       0.666610  0.741661   0.537029   0.844997      0.368316    1.0  \n",
       "1       0.530370  0.804230   0.409661   0.919215      0.371471    1.0  \n",
       "2       0.546380  0.856278   0.412994   0.959862      0.374747    1.0  \n",
       "3       0.548616  0.883772   0.414262   0.961818      0.379222    1.0  \n",
       "4       0.601418  0.867808   0.452954   0.966836      0.386007    1.0  "
      ]
     },
     "execution_count": 4,
     "metadata": {},
     "output_type": "execute_result"
    }
   ],
   "source": [
    "orignal_df = data_df.copy() \n",
    "\n",
    "for column in data_df.columns:\n",
    "  data_df[column] = data_df[column]/data_df[column].abs().max()\n",
    "data_df.head()"
   ]
  },
  {
   "cell_type": "markdown",
   "id": "e2879772",
   "metadata": {},
   "source": [
    "Data Splitting"
   ]
  },
  {
   "cell_type": "code",
   "execution_count": 10,
   "id": "e0771547",
   "metadata": {},
   "outputs": [
    {
     "name": "stdout",
     "output_type": "stream",
     "text": [
      "Training set is:  12729 rows which is 70.0 %\n",
      "Testing set is:  2728 rows which is 15.0 %\n",
      "Validation is:  2728  rows which is  15.0 %\n"
     ]
    },
    {
     "data": {
      "text/plain": [
       "numpy.ndarray"
      ]
     },
     "execution_count": 10,
     "metadata": {},
     "output_type": "execute_result"
    }
   ],
   "source": [
    "x = np.array(data_df.iloc[:, : -1])\n",
    "y = np.array(data_df.iloc[:, -1])\n",
    "\n",
    "x_train, x_test, y_train, y_test = train_test_split(x,y, test_size = 0.3)\n",
    "x_test, x_val, y_test, y_val = train_test_split(x_test, y_test, test_size = 0.5)\n",
    "\n",
    "print('Training set is: ', x_train.shape[0], \"rows which is\", round(x_train.shape[0]/x.shape[0],4)*100, \"%\")\n",
    "print('Testing set is: ', x_test.shape[0],'rows which is', round(x_test.shape[0]/x.shape[0],4)*100, \"%\")\n",
    "print('Validation is: ', x_val.shape[0],' rows which is ', round(x_val.shape[0]/x.shape[0],4)*100, \"%\")\n",
    "type(x_train)  # Will tell you the exact type: np.ndarray or pd.DataFrame\n"
   ]
  },
  {
   "cell_type": "markdown",
   "id": "b7553f3d",
   "metadata": {},
   "source": [
    "Dataset Object"
   ]
  },
  {
   "cell_type": "code",
   "execution_count": 6,
   "id": "1c6a2407",
   "metadata": {},
   "outputs": [],
   "source": [
    "class dataset(Dataset):\n",
    "  def __init__(self, x, y):\n",
    "    self.x = torch.tensor(x, dtype = torch.float32).to(device)\n",
    "    self.y = torch.tensor(y, dtype = torch.float32).to(device)\n",
    "\n",
    "  def __len__(self):\n",
    "    return len(self.x)\n",
    "  \n",
    "  def __getitem__(self, index):\n",
    "    return self.x[index], self.y[index]\n",
    "\n",
    "training_data = dataset(x_train, y_train)\n",
    "validation_data = dataset(x_val, y_val)\n",
    "testing_data = dataset(x_test, y_test)"
   ]
  },
  {
   "cell_type": "markdown",
   "id": "570e8752",
   "metadata": {},
   "source": [
    "Training Hyper Parameters"
   ]
  },
  {
   "cell_type": "code",
   "execution_count": 7,
   "id": "dda1e442",
   "metadata": {},
   "outputs": [],
   "source": [
    "BATCH_SIZE = 32\n",
    "EPOCHS = 50\n",
    "HIDDEN_NEURONS = 10\n",
    "LR = 1e-2"
   ]
  },
  {
   "cell_type": "markdown",
   "id": "495646e2",
   "metadata": {},
   "source": [
    "Data Loader"
   ]
  },
  {
   "cell_type": "code",
   "execution_count": 9,
   "id": "5b028032",
   "metadata": {},
   "outputs": [
    {
     "data": {
      "text/plain": [
       "<torch.utils.data.dataloader.DataLoader at 0x2504d346950>"
      ]
     },
     "execution_count": 9,
     "metadata": {},
     "output_type": "execute_result"
    }
   ],
   "source": [
    "\n",
    "train_dataloader = DataLoader(training_data, batch_size=BATCH_SIZE, shuffle= True)\n",
    "validation_dataloader = DataLoader(validation_data, batch_size=BATCH_SIZE, shuffle= True)\n",
    "testing_dataloader = DataLoader(testing_data, batch_size=BATCH_SIZE, shuffle= True)\n",
    "train_dataloader\n",
    "     "
   ]
  },
  {
   "cell_type": "markdown",
   "id": "0594ab6a",
   "metadata": {},
   "source": [
    "Model class"
   ]
  },
  {
   "cell_type": "code",
   "execution_count": null,
   "id": "ac62a18c",
   "metadata": {},
   "outputs": [],
   "source": [
    "class Mymodel(nn.Module):\n",
    "  def __init__(self):\n",
    "    super(Mymodel, self).__init__()\n",
    "\n",
    "    self.input_layer = nn.Linear(x.shape[1], HIDDEN_NEURONS)\n",
    "    self.linear1 = nn.Linear(HIDDEN_NEURONS, 10)\n",
    "    self.linear2 = nn.Linear(10, 1)\n",
    "    self.sigmoid = nn.Sigmoid()\n",
    "\n",
    "  def forward(self, x):\n",
    "    x = self.input_layer(x)\n",
    "    x = self.linear1(x)\n",
    "    x = self.linear2(x)\n",
    "    x = self.sigmoid(x)\n",
    "    return x\n",
    "  "
   ]
  },
  {
   "cell_type": "markdown",
   "id": "fe86106f",
   "metadata": {},
   "source": [
    "Model Creation"
   ]
  },
  {
   "cell_type": "code",
   "execution_count": 40,
   "id": "35b51a07",
   "metadata": {},
   "outputs": [
    {
     "name": "stdout",
     "output_type": "stream",
     "text": [
      "----------------------------------------------------------------\n",
      "        Layer (type)               Output Shape         Param #\n",
      "================================================================\n",
      "            Linear-1                   [-1, 10]             110\n",
      "            Linear-2                   [-1, 10]             110\n",
      "            Linear-3                    [-1, 1]              11\n",
      "           Sigmoid-4                    [-1, 1]               0\n",
      "================================================================\n",
      "Total params: 231\n",
      "Trainable params: 231\n",
      "Non-trainable params: 0\n",
      "----------------------------------------------------------------\n",
      "Input size (MB): 0.00\n",
      "Forward/backward pass size (MB): 0.00\n",
      "Params size (MB): 0.00\n",
      "Estimated Total Size (MB): 0.00\n",
      "----------------------------------------------------------------\n"
     ]
    }
   ],
   "source": [
    "model = Mymodel().to(device)\n",
    "\n",
    "summary(model, (x.shape[1],))"
   ]
  },
  {
   "cell_type": "markdown",
   "id": "d7bdc19c",
   "metadata": {},
   "source": [
    "Loss and Optimizer"
   ]
  },
  {
   "cell_type": "code",
   "execution_count": 41,
   "id": "cc1d2167",
   "metadata": {},
   "outputs": [],
   "source": [
    "loss = nn.BCELoss()\n",
    "optimizer = Adam(model.parameters(), lr = LR)"
   ]
  },
  {
   "cell_type": "markdown",
   "id": "8c8ecf73",
   "metadata": {},
   "source": [
    "Training"
   ]
  },
  {
   "cell_type": "code",
   "execution_count": 51,
   "id": "d451d783",
   "metadata": {},
   "outputs": [
    {
     "name": "stdout",
     "output_type": "stream",
     "text": [
      "Epoch no. 1 Train Loss: 0.0442 Train Accuracy: 95.8363 Validation Loss: 0.0058 Validation Accuracy: 97.4340\n",
      "==================================================\n",
      "Epoch no. 2 Train Loss: 0.0198 Train Accuracy: 98.2874 Validation Loss: 0.0057 Validation Accuracy: 97.5073\n",
      "==================================================\n",
      "Epoch no. 3 Train Loss: 0.0187 Train Accuracy: 98.3424 Validation Loss: 0.0036 Validation Accuracy: 98.5337\n",
      "==================================================\n",
      "Epoch no. 4 Train Loss: 0.0207 Train Accuracy: 98.1224 Validation Loss: 0.0038 Validation Accuracy: 98.4971\n",
      "==================================================\n",
      "Epoch no. 5 Train Loss: 0.0197 Train Accuracy: 98.2795 Validation Loss: 0.0052 Validation Accuracy: 97.9839\n",
      "==================================================\n",
      "Epoch no. 6 Train Loss: 0.0185 Train Accuracy: 98.4681 Validation Loss: 0.0040 Validation Accuracy: 98.3871\n",
      "==================================================\n",
      "Epoch no. 7 Train Loss: 0.0179 Train Accuracy: 98.5938 Validation Loss: 0.0056 Validation Accuracy: 97.5073\n",
      "==================================================\n",
      "Epoch no. 8 Train Loss: 0.0187 Train Accuracy: 98.3816 Validation Loss: 0.0044 Validation Accuracy: 98.2771\n",
      "==================================================\n",
      "Epoch no. 9 Train Loss: 0.0186 Train Accuracy: 98.4445 Validation Loss: 0.0038 Validation Accuracy: 98.3871\n",
      "==================================================\n",
      "Epoch no. 10 Train Loss: 0.0175 Train Accuracy: 98.5073 Validation Loss: 0.0038 Validation Accuracy: 98.4238\n",
      "==================================================\n",
      "Epoch no. 11 Train Loss: 0.0192 Train Accuracy: 98.4288 Validation Loss: 0.0036 Validation Accuracy: 98.4604\n",
      "==================================================\n",
      "Epoch no. 12 Train Loss: 0.0176 Train Accuracy: 98.5466 Validation Loss: 0.0054 Validation Accuracy: 97.9106\n",
      "==================================================\n",
      "Epoch no. 13 Train Loss: 0.0178 Train Accuracy: 98.4916 Validation Loss: 0.0043 Validation Accuracy: 98.3871\n",
      "==================================================\n",
      "Epoch no. 14 Train Loss: 0.0179 Train Accuracy: 98.5152 Validation Loss: 0.0038 Validation Accuracy: 98.3871\n",
      "==================================================\n",
      "Epoch no. 15 Train Loss: 0.0195 Train Accuracy: 98.3738 Validation Loss: 0.0039 Validation Accuracy: 98.3871\n",
      "==================================================\n",
      "Epoch no. 16 Train Loss: 0.0179 Train Accuracy: 98.5231 Validation Loss: 0.0037 Validation Accuracy: 98.6437\n",
      "==================================================\n",
      "Epoch no. 17 Train Loss: 0.0172 Train Accuracy: 98.4995 Validation Loss: 0.0040 Validation Accuracy: 98.3504\n",
      "==================================================\n",
      "Epoch no. 18 Train Loss: 0.0176 Train Accuracy: 98.4995 Validation Loss: 0.0036 Validation Accuracy: 98.4604\n",
      "==================================================\n",
      "Epoch no. 19 Train Loss: 0.0173 Train Accuracy: 98.4916 Validation Loss: 0.0036 Validation Accuracy: 98.4238\n",
      "==================================================\n",
      "Epoch no. 20 Train Loss: 0.0166 Train Accuracy: 98.5938 Validation Loss: 0.0039 Validation Accuracy: 98.4604\n",
      "==================================================\n",
      "Epoch no. 21 Train Loss: 0.0182 Train Accuracy: 98.4445 Validation Loss: 0.0041 Validation Accuracy: 98.2771\n",
      "==================================================\n",
      "Epoch no. 22 Train Loss: 0.0182 Train Accuracy: 98.3659 Validation Loss: 0.0037 Validation Accuracy: 98.4238\n",
      "==================================================\n",
      "Epoch no. 23 Train Loss: 0.0186 Train Accuracy: 98.3895 Validation Loss: 0.0036 Validation Accuracy: 98.4238\n",
      "==================================================\n",
      "Epoch no. 24 Train Loss: 0.0168 Train Accuracy: 98.5702 Validation Loss: 0.0038 Validation Accuracy: 98.4238\n",
      "==================================================\n",
      "Epoch no. 25 Train Loss: 0.0170 Train Accuracy: 98.5545 Validation Loss: 0.0038 Validation Accuracy: 98.3871\n",
      "==================================================\n",
      "Epoch no. 26 Train Loss: 0.0171 Train Accuracy: 98.5309 Validation Loss: 0.0036 Validation Accuracy: 98.4604\n",
      "==================================================\n",
      "Epoch no. 27 Train Loss: 0.0164 Train Accuracy: 98.5388 Validation Loss: 0.0037 Validation Accuracy: 98.6070\n",
      "==================================================\n",
      "Epoch no. 28 Train Loss: 0.0170 Train Accuracy: 98.5466 Validation Loss: 0.0037 Validation Accuracy: 98.5337\n",
      "==================================================\n",
      "Epoch no. 29 Train Loss: 0.0172 Train Accuracy: 98.4759 Validation Loss: 0.0043 Validation Accuracy: 98.3871\n",
      "==================================================\n",
      "Epoch no. 30 Train Loss: 0.0178 Train Accuracy: 98.4838 Validation Loss: 0.0041 Validation Accuracy: 98.4238\n",
      "==================================================\n",
      "Epoch no. 31 Train Loss: 0.0179 Train Accuracy: 98.4445 Validation Loss: 0.0036 Validation Accuracy: 98.4604\n",
      "==================================================\n",
      "Epoch no. 32 Train Loss: 0.0170 Train Accuracy: 98.5231 Validation Loss: 0.0037 Validation Accuracy: 98.4238\n",
      "==================================================\n",
      "Epoch no. 33 Train Loss: 0.0168 Train Accuracy: 98.5938 Validation Loss: 0.0036 Validation Accuracy: 98.4604\n",
      "==================================================\n",
      "Epoch no. 34 Train Loss: 0.0165 Train Accuracy: 98.6488 Validation Loss: 0.0036 Validation Accuracy: 98.4971\n",
      "==================================================\n",
      "Epoch no. 35 Train Loss: 0.0169 Train Accuracy: 98.5152 Validation Loss: 0.0036 Validation Accuracy: 98.4604\n",
      "==================================================\n",
      "Epoch no. 36 Train Loss: 0.0166 Train Accuracy: 98.5859 Validation Loss: 0.0045 Validation Accuracy: 98.2405\n",
      "==================================================\n",
      "Epoch no. 37 Train Loss: 0.0173 Train Accuracy: 98.5938 Validation Loss: 0.0047 Validation Accuracy: 98.1672\n",
      "==================================================\n",
      "Epoch no. 38 Train Loss: 0.0173 Train Accuracy: 98.4524 Validation Loss: 0.0038 Validation Accuracy: 98.4971\n",
      "==================================================\n",
      "Epoch no. 39 Train Loss: 0.0176 Train Accuracy: 98.5702 Validation Loss: 0.0042 Validation Accuracy: 98.4238\n",
      "==================================================\n",
      "Epoch no. 40 Train Loss: 0.0165 Train Accuracy: 98.5623 Validation Loss: 0.0035 Validation Accuracy: 98.4971\n",
      "==================================================\n",
      "Epoch no. 41 Train Loss: 0.0178 Train Accuracy: 98.4524 Validation Loss: 0.0036 Validation Accuracy: 98.4238\n",
      "==================================================\n",
      "Epoch no. 42 Train Loss: 0.0169 Train Accuracy: 98.5466 Validation Loss: 0.0041 Validation Accuracy: 98.4238\n",
      "==================================================\n",
      "Epoch no. 43 Train Loss: 0.0167 Train Accuracy: 98.6173 Validation Loss: 0.0041 Validation Accuracy: 98.2771\n",
      "==================================================\n",
      "Epoch no. 44 Train Loss: 0.0170 Train Accuracy: 98.5152 Validation Loss: 0.0064 Validation Accuracy: 97.6173\n",
      "==================================================\n",
      "Epoch no. 45 Train Loss: 0.0169 Train Accuracy: 98.6016 Validation Loss: 0.0036 Validation Accuracy: 98.6437\n",
      "==================================================\n",
      "Epoch no. 46 Train Loss: 0.0165 Train Accuracy: 98.5388 Validation Loss: 0.0035 Validation Accuracy: 98.4971\n",
      "==================================================\n",
      "Epoch no. 47 Train Loss: 0.0167 Train Accuracy: 98.5938 Validation Loss: 0.0040 Validation Accuracy: 98.4971\n",
      "==================================================\n",
      "Epoch no. 48 Train Loss: 0.0168 Train Accuracy: 98.6016 Validation Loss: 0.0041 Validation Accuracy: 98.3871\n",
      "==================================================\n",
      "Epoch no. 49 Train Loss: 0.0161 Train Accuracy: 98.5388 Validation Loss: 0.0036 Validation Accuracy: 98.4604\n",
      "==================================================\n",
      "Epoch no. 50 Train Loss: 0.0165 Train Accuracy: 98.5388 Validation Loss: 0.0043 Validation Accuracy: 98.3138\n",
      "==================================================\n"
     ]
    }
   ],
   "source": [
    "total_loss_train_plot = []\n",
    "total_loss_validation_plot = []\n",
    "total_acc_train_plot = []\n",
    "total_acc_validation_plot = []\n",
    "\n",
    "for epoch in range(EPOCHS):\n",
    "    total_acc_train = 0\n",
    "    total_loss_train = 0\n",
    "    total_acc_val = 0\n",
    "    total_loss_val = 0\n",
    "    ## Training and Validation\n",
    "    for data in train_dataloader:\n",
    "\n",
    "        inputs, labels = data\n",
    "\n",
    "        prediction = model(inputs).squeeze(1)\n",
    "\n",
    "        batch_loss = loss(prediction, labels)\n",
    "\n",
    "        total_loss_train += batch_loss.item()\n",
    "\n",
    "        acc = ((prediction).round() == labels).sum().item()\n",
    "\n",
    "        total_acc_train += acc\n",
    "\n",
    "        batch_loss.backward()\n",
    "        optimizer.step()\n",
    "        optimizer.zero_grad()\n",
    "\n",
    "    ## Validation\n",
    "    with torch.no_grad():\n",
    "        for data in validation_dataloader:\n",
    "            inputs, labels = data\n",
    "\n",
    "            prediction = model(inputs).squeeze(1)\n",
    "\n",
    "            batch_loss = loss(prediction, labels)\n",
    "\n",
    "            total_loss_val += batch_loss.item()\n",
    "\n",
    "            acc = ((prediction).round() == labels).sum().item()\n",
    "\n",
    "            total_acc_val += acc\n",
    "\n",
    "    total_loss_train_plot.append(round(total_loss_train/1000, 4))\n",
    "    total_loss_validation_plot.append(round(total_loss_val/1000, 4))\n",
    "    total_acc_train_plot.append(round(total_acc_train/(training_data.__len__())*100, 4))\n",
    "    total_acc_validation_plot.append(round(total_acc_val/(validation_data.__len__())*100, 4))\n",
    "\n",
    "    print(f'''Epoch no. {epoch + 1} Train Loss: {total_loss_train/1000:.4f} Train Accuracy: {(total_acc_train/(training_data.__len__())*100):.4f} Validation Loss: {total_loss_val/1000:.4f} Validation Accuracy: {(total_acc_val/(validation_data.__len__())*100):.4f}''')\n",
    "    print(\"=\"*50)"
   ]
  },
  {
   "cell_type": "markdown",
   "id": "9d5c322b",
   "metadata": {},
   "source": [
    "Graphs"
   ]
  },
  {
   "cell_type": "code",
   "execution_count": 56,
   "id": "2d908e3f",
   "metadata": {},
   "outputs": [
    {
     "data": {
      "image/png": "[encoded data removed]",
      "text/plain": [
       "<Figure size 1500x500 with 2 Axes>"
      ]
     },
     "metadata": {},
     "output_type": "display_data"
    }
   ],
   "source": [
    "ig, axs = plt.subplots(nrows=1, ncols=2, figsize=(15, 5))\n",
    "\n",
    "axs[0].plot(total_loss_train_plot, label='Training Loss')\n",
    "axs[0].plot(total_loss_validation_plot, label='Validation Loss')\n",
    "axs[0].set_title('Training and Validation Loss over Epochs')\n",
    "axs[0].set_xlabel('Epochs')\n",
    "axs[0].set_ylabel('Loss')\n",
    "axs[0].set_ylim([0, 0.15])\n",
    "axs[0].legend()\n",
    "\n",
    "axs[1].plot(total_acc_train_plot, label='Training Accuracy')\n",
    "axs[1].plot(total_acc_validation_plot, label='Validation Accuracy')\n",
    "axs[1].set_title('Training and Validation Accuracy over Epochs')\n",
    "axs[1].set_xlabel('Epochs')\n",
    "axs[1].set_ylabel('Accuracy')\n",
    "axs[1].set_ylim([80, 100])\n",
    "axs[1].legend()\n",
    "\n",
    "plt.tight_layout()\n",
    "\n",
    "plt.show()"
   ]
  },
  {
   "cell_type": "code",
   "execution_count": 58,
   "id": "59a6385b",
   "metadata": {},
   "outputs": [
    {
     "name": "stdout",
     "output_type": "stream",
     "text": [
      "Note: you may need to restart the kernel to use updated packages.\n"
     ]
    }
   ],
   "source": [
    "%pip install opendatasets --quiet\n"
   ]
  },
  {
   "cell_type": "code",
   "execution_count": null,
   "id": "37cb348f",
   "metadata": {},
   "outputs": [],
   "source": [
    " "
   ]
  }
 ],
 "metadata": {
  "kernelspec": {
   "display_name": "Python 3",
   "language": "python",
   "name": "python3"
  },
  "language_info": {
   "codemirror_mode": {
    "name": "ipython",
    "version": 3
   },
   "file_extension": ".py",
   "mimetype": "text/x-python",
   "name": "python",
   "nbconvert_exporter": "python",
   "pygments_lexer": "ipython3",
   "version": "3.10.6"
  }
 },
 "nbformat": 4,
 "nbformat_minor": 5
}
